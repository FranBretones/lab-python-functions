{
 "cells": [
  {
   "cell_type": "markdown",
   "id": "25d7736c-ba17-4aff-b6bb-66eba20fbf4e",
   "metadata": {},
   "source": [
    "# Lab | Functions"
   ]
  },
  {
   "cell_type": "markdown",
   "id": "0c581062-8967-4d93-b06e-62833222f930",
   "metadata": {
    "tags": []
   },
   "source": [
    "## Exercise: Managing Customer Orders with Functions\n",
    "\n",
    "In the previous exercise, you improved the code for managing customer orders by using loops and flow control. Now, let's take it a step further and refactor the code by introducing functions.\n",
    "\n",
    "Follow the steps below to complete the exercise:\n",
    "\n",
    "1. Define a function named `initialize_inventory` that takes `products` as a parameter. Inside the function, implement the code for initializing the inventory dictionary using a loop and user input.\n",
    "\n",
    "2. Define a function named `get_customer_orders` that takes no parameters. Inside the function, implement the code for prompting the user to enter the product names using a loop. The function should return the `customer_orders` set.\n",
    "\n",
    "3. Define a function named `update_inventory` that takes `customer_orders` and `inventory` as parameters. Inside the function, implement the code for updating the inventory dictionary based on the customer orders.\n",
    "\n",
    "4. Define a function named `calculate_order_statistics` that takes `customer_orders` and `products` as parameters. Inside the function, implement the code for calculating the order statistics (total products ordered, and percentage of unique products ordered). The function should return these values.\n",
    "\n",
    "5. Define a function named `print_order_statistics` that takes `order_statistics` as a parameter. Inside the function, implement the code for printing the order statistics.\n",
    "\n",
    "6. Define a function named `print_updated_inventory` that takes `inventory` as a parameter. Inside the function, implement the code for printing the updated inventory.\n",
    "\n",
    "7. Call the functions in the appropriate sequence to execute the program and manage customer orders.\n",
    "\n",
    "Hints for functions:\n",
    "\n",
    "- Consider the input parameters required for each function and their return values.\n",
    "- Utilize function parameters and return values to transfer data between functions.\n",
    "- Test your functions individually to ensure they work correctly.\n",
    "\n",
    "\n"
   ]
  },
  {
   "cell_type": "code",
   "execution_count": 44,
   "id": "78114bb2",
   "metadata": {},
   "outputs": [],
   "source": [
    "#1. Define a function named `initialize_inventory` that takes `products` as a parameter. \n",
    "# Inside the function, implement the code for initializing the inventory dictionary using a loop and user input.\n",
    "\n",
    "def initialize_inventory(products):\n",
    "    inventory = {}\n",
    "    for product in products:\n",
    "        while True: \n",
    "                quantity = int(input(f'Enter the quantity for {product}:'))\n",
    "                inventory[product]=quantity\n",
    "                break \n",
    "    return inventory\n",
    "\n",
    "products = [\"t-shirt\", \"mug\", \"hat\", \"book\", \"keychain\"] #products for sell\n",
    "inventory = initialize_inventory(products) #initial inventory "
   ]
  },
  {
   "cell_type": "code",
   "execution_count": 45,
   "id": "068baa71",
   "metadata": {},
   "outputs": [],
   "source": [
    "def get_customer_orders():\n",
    "    \n",
    "    customer_order = set()\n",
    "    while True:\n",
    "        product_name = input(f'Enter the desired product:').strip().lower() #prompting the user to enter the product names using a loop. \n",
    "        if product_name in products:\n",
    "            customer_order.add(product_name) \n",
    "        else: \n",
    "            print(f\"{product_name} is not available.\")\n",
    "            \n",
    "        another_product = input(f'Do you want to order more products?(yes/no)').strip().lower()\n",
    "        if another_product != 'yes':\n",
    "            print(f'Order completed!')\n",
    "            break\n",
    "    return customer_order\n",
    "\n"
   ]
  },
  {
   "cell_type": "code",
   "execution_count": 46,
   "id": "20f8dc5c",
   "metadata": {},
   "outputs": [],
   "source": [
    "#3. Define a function named `update_inventory` that takes `customer_orders` and `inventory` as parameters. \n",
    "# Inside the function, implement the code for updating the inventory dictionary based on the customer orders.\n",
    "\n",
    "def update_inventory(customer_order, inventory):\n",
    "    for product in customer_order:\n",
    "        if product in inventory and inventory[product] > 0:\n",
    "            inventory[product] -= 1\n",
    "    return inventory"
   ]
  },
  {
   "cell_type": "code",
   "execution_count": 47,
   "id": "cb48548d",
   "metadata": {},
   "outputs": [],
   "source": [
    "# 4.Define a function named `calculate_order_statistics` that takes `customer_orders` and `products` as parameters. \n",
    "# Inside the function, implement the code for calculating the order statistics (total products ordered, and percentage of unique products ordered). \n",
    "# The function should return these values.\n",
    "\n",
    "def calculate_order_statistics(customer_order,products):\n",
    "    \n",
    "    total_products_ordered = len(customer_order)\n",
    "    \n",
    "    total_products = 0 \n",
    "    for products in inventory.keys():\n",
    "        total_products = total_products + inventory[products]\n",
    "    \n",
    "    if total_products>0:\n",
    "        percentage_products_ordered = (total_products_ordered / total_products) * 100\n",
    "    else:\n",
    "        percentage_ordered = 0 \n",
    "        \n",
    "    return total_products_ordered,percentage_products_ordered\n"
   ]
  },
  {
   "cell_type": "code",
   "execution_count": 48,
   "id": "16811e9f",
   "metadata": {},
   "outputs": [],
   "source": [
    "# 5. Define a function named `print_order_statistics` that takes `order_statistics` as a parameter. \n",
    "# Inside the function, implement the code for printing the order statistics.\n",
    "\n",
    "def print_order_statistics(order_statistics):\n",
    "    \n",
    "    print(f'Order statistics:')\n",
    "    print(f'Total Products ordered : {order_statistics[0]}')\n",
    "    print(f'Percerntage of products ordered: {order_statistics[1]}%')\n",
    "\n",
    "order_statistics = calculate_order_statistics(customer_order,products)"
   ]
  },
  {
   "cell_type": "code",
   "execution_count": 49,
   "id": "0a5ee4c4",
   "metadata": {},
   "outputs": [],
   "source": [
    "# 6.Define a function named `print_updated_inventory` that takes `inventory` as a parameter. \n",
    "# Inside the function, implement the code for printing the updated inventory.\n",
    "\n",
    "def print_updated_inventory(inventory): \n",
    "    print(f'Updated Inventory:')\n",
    "    for product, quantity in inventory.items():\n",
    "        print(f'{product}:{quantity}')"
   ]
  },
  {
   "cell_type": "code",
   "execution_count": 50,
   "id": "2ef3b1ee",
   "metadata": {},
   "outputs": [
    {
     "name": "stdout",
     "output_type": "stream",
     "text": [
      "Products Available:{'t-shirt': 10, 'mug': 10, 'hat': 10, 'book': 10, 'keychain': 10}\n",
      "Order completed!\n",
      "Customer Order: {'hat', 'book'}\n",
      "Order statistics:\n",
      "Total Products ordered : 2\n",
      "Percerntage of products ordered: 4.0%\n",
      "Updated Inventory:\n",
      "t-shirt:10\n",
      "mug:10\n",
      "hat:9\n",
      "book:9\n",
      "keychain:10\n"
     ]
    }
   ],
   "source": [
    "print(f'Products Available:{inventory}')\n",
    "\n",
    "customer_order = get_customer_orders() # Takes the customer order for get_customer_order function.\n",
    "\n",
    "print(\"Customer Order:\", customer_order) #return the `customer_orders` set.\n",
    "\n",
    "print_order_statistics(order_statistics)\n",
    "\n",
    "actual_inventory = update_inventory(customer_order,inventory)\n",
    "\n",
    "print_updated_inventory(inventory)"
   ]
  }
 ],
 "metadata": {
  "kernelspec": {
   "display_name": "venv",
   "language": "python",
   "name": "python3"
  },
  "language_info": {
   "codemirror_mode": {
    "name": "ipython",
    "version": 3
   },
   "file_extension": ".py",
   "mimetype": "text/x-python",
   "name": "python",
   "nbconvert_exporter": "python",
   "pygments_lexer": "ipython3",
   "version": "3.12.1"
  }
 },
 "nbformat": 4,
 "nbformat_minor": 5
}
